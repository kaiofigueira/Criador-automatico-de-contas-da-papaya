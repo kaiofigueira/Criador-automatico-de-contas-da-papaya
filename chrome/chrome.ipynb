{
 "cells": [
  {
   "cell_type": "code",
   "execution_count": null,
   "metadata": {},
   "outputs": [],
   "source": [
    "import sys\n",
    "import os\n",
    "\n",
    "# Caminho relativo para o diretório onde o criador_conta_browser.py está localizado\n",
    "caminho_relativo = os.path.join(os.getcwd(), '..')\n",
    "# Adicionando o caminho absoluto do diretório pai ao sys.path\n",
    "sys.path.append(os.path.abspath(caminho_relativo))\n",
    "\n",
    "from criador_conta_chrome import CriadorContaChrome\n",
    "def main(criador):\n",
    "    criador.obter_driver()\n",
    "\n",
    "    # Exemplo de uso do driver\n",
    "    qtd_contas_criacao = 100\n",
    "    contas_por_sessao = 1\n",
    "    for i, _ in enumerate(range(qtd_contas_criacao), start=1):\n",
    "        # Se a quantidade de contas criadas nesta sessão atingir o limite, reinicie o WebDriver\n",
    "        if i % contas_por_sessao == 1:\n",
    "            criador.driver.quit()\n",
    "            criador.obter_driver()\n",
    "\n",
    "        criador.obter_email_temporario()\n",
    "        criador.cadastrar_conta_papaya()\n",
    "\n",
    "        criador.validar_email_apos_criar_conta_papaya()\n",
    "        criador.validar_criacao_conta_papaya()\n",
    "        criador.adicionar_conta_txt()\n",
    "\n",
    "        print(\"Quantidade de contas geradas\", i)\n",
    "\n",
    "    criador.driver.quit()\n",
    "\n",
    "if __name__ == '__main__':\n",
    "    profile_path = r'C:\\Users\\Kaio\\AppData\\Local\\Google\\Chrome\\User Data'\n",
    "    criador = CriadorContaChrome(profile_path)\n",
    "    try:\n",
    "        main(criador)\n",
    "    except Exception as e:\n",
    "        print(f'Erro ao cadastrar conta: {e}')\n",
    "        criador.close_chrome_instances()"
   ]
  }
 ],
 "metadata": {
  "kernelspec": {
   "display_name": "Python 3",
   "language": "python",
   "name": "python3"
  },
  "language_info": {
   "codemirror_mode": {
    "name": "ipython",
    "version": 3
   },
   "file_extension": ".py",
   "mimetype": "text/x-python",
   "name": "python",
   "nbconvert_exporter": "python",
   "pygments_lexer": "ipython3",
   "version": "3.12.5"
  }
 },
 "nbformat": 4,
 "nbformat_minor": 2
}
