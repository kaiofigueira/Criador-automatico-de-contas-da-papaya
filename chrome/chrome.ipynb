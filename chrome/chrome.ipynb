{
 "cells": [
  {
   "cell_type": "code",
   "execution_count": null,
   "metadata": {},
   "outputs": [],
   "source": [
    "import sys\n",
    "import os\n",
    "\n",
    "# Caminho relativo para o diretório onde o criador_conta_browser.py está localizado\n",
    "caminho_relativo = os.path.join(os.getcwd(), '..')\n",
    "# Adicionando o caminho absoluto do diretório pai ao sys.path\n",
    "sys.path.append(os.path.abspath(caminho_relativo))\n",
    "\n",
    "from criador_conta_chrome import CriadorContaChrome\n",
    "def main(criador):\n",
    "    criador.criar_conta(qtd_contas_criacao=100)\n",
    "\n",
    "if __name__ == '__main__':\n",
    "    profile_path = r'C:\\Users\\Kaio\\AppData\\Local\\Google\\Chrome\\User Data'\n",
    "    criador = CriadorContaChrome(profile_path)\n",
    "    main(criador)"
   ]
  }
 ],
 "metadata": {
  "kernelspec": {
   "display_name": "Python 3",
   "language": "python",
   "name": "python3"
  },
  "language_info": {
   "codemirror_mode": {
    "name": "ipython",
    "version": 3
   },
   "file_extension": ".py",
   "mimetype": "text/x-python",
   "name": "python",
   "nbconvert_exporter": "python",
   "pygments_lexer": "ipython3",
   "version": "3.12.5"
  }
 },
 "nbformat": 4,
 "nbformat_minor": 2
}
