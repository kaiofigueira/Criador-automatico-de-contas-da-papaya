{
 "cells": [
  {
   "cell_type": "code",
   "execution_count": null,
   "metadata": {},
   "outputs": [],
   "source": [
    "import sys\n",
    "import os\n",
    "\n",
    "# Caminho relativo para o diretório onde o criador_conta_browser.py está localizado\n",
    "caminho_relativo = os.path.join(os.getcwd(), '..')\n",
    "# Adicionando o caminho absoluto do diretório pai ao sys.path\n",
    "sys.path.append(os.path.abspath(caminho_relativo))\n",
    "\n",
    "from criador_conta_brave import CriadorContaBrave\n",
    "def main(criador):\n",
    "    criador.criar_conta(qtd_contas_criacao=100)\n",
    "\n",
    "if __name__ == '__main__':\n",
    "    profile_path = r'C:\\Users\\Kaio\\AppData\\Local\\BraveSoftware\\Brave-Browser\\User Data\\Default\\Default'\n",
    "    binary_location = r\"C:\\Program Files\\BraveSoftware\\Brave-Browser\\Application\\brave.exe\"\n",
    "\n",
    "    criador = CriadorContaBrave(profile_path, binary_location)\n",
    "    main(criador)"
   ]
  }
 ],
 "metadata": {
  "kernelspec": {
   "display_name": ".venv",
   "language": "python",
   "name": "python3"
  },
  "language_info": {
   "codemirror_mode": {
    "name": "ipython",
    "version": 3
   },
   "file_extension": ".py",
   "mimetype": "text/x-python",
   "name": "python",
   "nbconvert_exporter": "python",
   "pygments_lexer": "ipython3",
   "version": "3.12.5"
  }
 },
 "nbformat": 4,
 "nbformat_minor": 2
}
